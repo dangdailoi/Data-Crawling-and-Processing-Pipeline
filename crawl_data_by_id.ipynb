{
  "nbformat": 4,
  "nbformat_minor": 0,
  "metadata": {
    "colab": {
      "private_outputs": true,
      "provenance": []
    },
    "kernelspec": {
      "name": "python3",
      "display_name": "Python 3"
    },
    "language_info": {
      "name": "python"
    }
  },
  "cells": [
    {
      "cell_type": "code",
      "source": [
        "from google.colab import drive\n",
        "drive.mount('/content/drive')"
      ],
      "metadata": {
        "id": "vPOrRWxoutES"
      },
      "execution_count": null,
      "outputs": []
    },
    {
      "cell_type": "markdown",
      "source": [
        "#### ***set up***"
      ],
      "metadata": {
        "id": "tz9-nr3evEHF"
      }
    },
    {
      "cell_type": "code",
      "source": [
        "import requests\n",
        "import pandas as pd\n",
        "from http.cookies import SimpleCookie\n",
        "import random\n",
        "import time\n",
        "from tqdm import tqdm"
      ],
      "metadata": {
        "id": "_pFCfnKcyTSv"
      },
      "execution_count": null,
      "outputs": []
    },
    {
      "cell_type": "markdown",
      "source": [
        "####**params for id**"
      ],
      "metadata": {
        "id": "PJDenW7myXRt"
      }
    },
    {
      "cell_type": "code",
      "source": [
        "cookie_id='_trackity=a5704b73-4b1a-d727-9824-95233b0cad3a; _ga=GA1.1.1606773349.1718074368; _gcl_au=1.1.2002871843.1718074372; __uidac=016667bc060719f48405c70b764ade36; dtdz=cc7a5666-5c27-5df0-bc0d-673a697ce673; TOKENS={%22access_token%22:%22Jf9D410VIESuoswOtNreMqg27bm6Pikp%22}; _hjSessionUser_522327=eyJpZCI6ImZjMDcyM2YzLWE4ZTctNTBmNS1hMGRjLTdlZGU2MDQ3MzUzYSIsImNyZWF0ZWQiOjE3MTgwNzQzNzIzNTQsImV4aXN0aW5nIjp0cnVlfQ==; __iid=749; __iid=749; __su=0; __su=0; delivery_zone=Vk4wMzkwMDYwMDE=; tiki_client_id=1606773349.1718074368; cto_bundle=Nq1Ojl9GUmQwN0d0UHpmamdaVnB1M2RzZnElMkZ4Q3NDWWFXZ0RUVTM2OGN5MDEyYW14dWlYOFdKYTFEcHhXQUxJbXpDTlhDRnl1T2h1YVV5JTJCa3p2SjBzJTJGc3JCdTNxd0RpSCUyRnkyNFJ3NUNMRkdmVjJnd0k0anMwOHFXblNNSlQzaHFVRjNvNGhHWFp5VzNKWjh2TGRQZXE1UzhEeVpIQkhGJTJCRDJGSUtQYlpsSTVYODExJTJGNiUyQktIa1hHZ3ZkVm92S2x5WjNuQWwxRjAlMkJmT0tUTGtXM2k0MTg2d0tmZyUzRCUzRA; _hjSession_522327=eyJpZCI6Ijg3NWY0NGY2LTk3NGUtNGRjNC05NTc2LWI5N2U1ZTIyZTBiYyIsImMiOjE3MjM1OTk5NzQ4MzYsInMiOjAsInIiOjAsInNiIjowLCJzciI6MCwic2UiOjAsImZzIjowLCJzcCI6MX0=; __adm_upl=eyJ0aW1lIjoxNzIzNTk5OTgxLCJfdXBsIjpudWxsfQ==; _ga_S9GLR1RQFJ=GS1.1.1723599970.15.1.1723600463.40.0.0; amp_99d374=Y-p8I0HL56N4SdC0FQFzwS...1i5790n9f.1i579fqiq.qv.sl.1nk'"
      ],
      "metadata": {
        "id": "LBGLBsw4vHDQ"
      },
      "execution_count": null,
      "outputs": []
    },
    {
      "cell_type": "code",
      "source": [
        "param_id='''\n",
        "limit: 40\n",
        "include: advertisement\n",
        "aggregations: 2\n",
        "version: home-persionalized\n",
        "trackity_id: a5704b73-4b1a-d727-9824-95233b0cad3a\n",
        "category: 316\n",
        "page: 1\n",
        "urlKey: sach-truyen-tieng-viet\n",
        "'''"
      ],
      "metadata": {
        "id": "_bQ-MojUwCH2"
      },
      "execution_count": null,
      "outputs": []
    },
    {
      "cell_type": "code",
      "source": [
        "header_id='''\n",
        "user-agent: Mozilla/5.0 (Windows NT 10.0; Win64; x64) AppleWebKit/537.36 (KHTML, like Gecko) Chrome/127.0.0.0 Safari/537.36\n",
        "x-guest-token: Jf9D410VIESuoswOtNreMqg27bm6Pikp\n",
        "accept-language: en-GB,en-US;q=0.9,en;q=0.8,vi;q=0.7\n",
        "accept: application/json, text/plain, */*\n",
        "referer: https://tiki.vn/sach-truyen-tieng-viet/c316\n",
        "'''"
      ],
      "metadata": {
        "id": "zLGK1anHwSyH"
      },
      "execution_count": null,
      "outputs": []
    },
    {
      "cell_type": "code",
      "source": [
        "api_id = 'https://tiki.vn/api/personalish/v1/blocks/listings'"
      ],
      "metadata": {
        "id": "c8oczq4yxtDS"
      },
      "execution_count": null,
      "outputs": []
    },
    {
      "cell_type": "markdown",
      "source": [
        "#### **params for product**"
      ],
      "metadata": {
        "id": "j1miusOR9rDq"
      }
    },
    {
      "cell_type": "code",
      "source": [
        "cookie_product = '_trackity=a5704b73-4b1a-d727-9824-95233b0cad3a; _ga=GA1.1.1606773349.1718074368; _gcl_au=1.1.2002871843.1718074372; __uidac=016667bc060719f48405c70b764ade36; dtdz=cc7a5666-5c27-5df0-bc0d-673a697ce673; TOKENS={%22access_token%22:%22Jf9D410VIESuoswOtNreMqg27bm6Pikp%22}; _hjSessionUser_522327=eyJpZCI6ImZjMDcyM2YzLWE4ZTctNTBmNS1hMGRjLTdlZGU2MDQ3MzUzYSIsImNyZWF0ZWQiOjE3MTgwNzQzNzIzNTQsImV4aXN0aW5nIjp0cnVlfQ==; __iid=749; __iid=749; __su=0; __su=0; delivery_zone=Vk4wMzkwMDYwMDE=; tiki_client_id=1606773349.1718074368; _hjSession_522327=eyJpZCI6Ijg3NWY0NGY2LTk3NGUtNGRjNC05NTc2LWI5N2U1ZTIyZTBiYyIsImMiOjE3MjM1OTk5NzQ4MzYsInMiOjAsInIiOjAsInNiIjowLCJzciI6MCwic2UiOjAsImZzIjowLCJzcCI6MX0=; cto_bundle=Detnul9GUmQwN0d0UHpmamdaVnB1M2RzZnEyVjFWTCUyQmZaakRoRVJIZiUyQnB1cGtibHRPUjFqYVFBMjBtTXpFUnRiSVl3T28zZmhyVzRSWFhSbiUyQjZ1WmxoTlNTZG5UTXJmRVBldlEzMTMwbE1vQmtNa3NRaEg5ZGlta2QzOUpaMFc2JTJCS25QWW1EJTJCM2dkcTc5U1FTWU1xcFFPeEFxbHRzZWgxcFM2cFIlMkIwaU5kQVNGdGpsaGsxanhZcyUyRmFwVnlpTDlVWHIzMUpKT1BXVm0lMkZwbVVoMGg1RUpiaDFGQSUzRCUzRA; __adm_upl=eyJ0aW1lIjoxNzIzNjAwODA5LCJfdXBsIjpudWxsfQ==; _ga_S9GLR1RQFJ=GS1.1.1723599970.15.1.1723600814.42.0.0; amp_99d374=Y-p8I0HL56N4SdC0FQFzwS...1i5790n9f.1i579qg2g.r7.t1.1o8'"
      ],
      "metadata": {
        "id": "liWUbd5N9xQn"
      },
      "execution_count": null,
      "outputs": []
    },
    {
      "cell_type": "code",
      "source": [
        "param_product='''\n",
        "platform: web\n",
        "spid: 262977990\n",
        "version: 3\n",
        "'''"
      ],
      "metadata": {
        "id": "AZdMSETp945D"
      },
      "execution_count": null,
      "outputs": []
    },
    {
      "cell_type": "code",
      "source": [
        "header_product='''\n",
        "accept: application/json, text/plain, */*\n",
        "accept-language: en-GB,en-US;q=0.9,en;q=0.8,vi;q=0.7\n",
        "referer: https://tiki.vn/ke-toan-via-he-thuc-hanh-bao-cao-tai-chinh-can-ban-tu-quay-ban-nuoc-chanh-p262977989.html?itm_campaign=CTP_YPD_TKA_PLA_UNK_ALL_UNK_UNK_UNK_UNK_X.254798_Y.1837118_Z.3781317_CN.%23-Ke-Toan-Via-He&itm_medium=CPC&itm_source=tiki-ads&spid=262977990\n",
        "user-agent: Mozilla/5.0 (Windows NT 10.0; Win64; x64) AppleWebKit/537.36 (KHTML, like Gecko) Chrome/127.0.0.0 Safari/537.36\n",
        "x-guest-token: Jf9D410VIESuoswOtNreMqg27bm6Pikp\n",
        "'''"
      ],
      "metadata": {
        "id": "SfdW9ZSH-C_i"
      },
      "execution_count": null,
      "outputs": []
    },
    {
      "cell_type": "code",
      "source": [
        "api_product = 'https://tiki.vn/api/v2/products/'"
      ],
      "metadata": {
        "id": "-87zfsAV-oLq"
      },
      "execution_count": null,
      "outputs": []
    },
    {
      "cell_type": "markdown",
      "source": [
        "#### **funtion get**"
      ],
      "metadata": {
        "id": "pitaNrEPyaiN"
      }
    },
    {
      "cell_type": "code",
      "source": [
        "def cookies(cookie_str: str) -> dict:\n",
        "    cookie = SimpleCookie()\n",
        "    cookie.load(cookie_str)\n",
        "    return {key: morsel.value for key, morsel in cookie.items()}\n",
        "\n",
        "def headers(header_str: str) -> dict:\n",
        "    headers = {}\n",
        "    for line in header_str.split('\\n'):\n",
        "        if ': ' in line:\n",
        "            key, value = line.split(': ', 1)\n",
        "            headers[key] = value\n",
        "    return headers\n",
        "\n",
        "def params(params_str: str) -> dict:\n",
        "    params = {}\n",
        "    for line in params_str.split('\\n'):\n",
        "        if ': ' in line:\n",
        "            key, value = line.split(': ', 1)\n",
        "            params[key] = value\n",
        "    return params"
      ],
      "metadata": {
        "id": "tlJC1Q8YvoAz"
      },
      "execution_count": null,
      "outputs": []
    },
    {
      "cell_type": "markdown",
      "source": [
        "#### **crawl id**"
      ],
      "metadata": {
        "id": "aCksRUnFHHic"
      }
    },
    {
      "cell_type": "code",
      "execution_count": null,
      "metadata": {
        "id": "_uRmobtAp4Zs"
      },
      "outputs": [],
      "source": [
        "def crawl_id(api, header, param, cookie) -> pd.DataFrame:\n",
        "    product_id = []\n",
        "    page = 1\n",
        "    while True:\n",
        "        param['page'] = page\n",
        "        response = requests.get(api, headers=header, params=param, cookies=cookie)\n",
        "        if response.status_code == 200:\n",
        "            data = response.json().get('data', [])\n",
        "            if not data:  # Nếu không có dữ liệu trả về, thoát khỏi vòng lặp\n",
        "                break\n",
        "            for record in data:\n",
        "                product_id.append({'id': record.get('id')})\n",
        "            page += 1\n",
        "            if page % 10 == 0:\n",
        "              print('page ', page)\n",
        "        else:\n",
        "            print(f\"Request failed with status code {response.status_code}, page {page}\")\n",
        "            break\n",
        "    return pd.DataFrame(product_id)"
      ]
    },
    {
      "cell_type": "code",
      "source": [
        "product_id = crawl_id(api_id, headers(header_id), params(param_id), cookies(cookie_id))"
      ],
      "metadata": {
        "id": "uLHXajWhzuwQ"
      },
      "execution_count": null,
      "outputs": []
    },
    {
      "cell_type": "code",
      "source": [
        "product_id.to_csv('/content/drive/MyDrive/DS_KLTN/crawl_data/book/book_id.csv', index=False)"
      ],
      "metadata": {
        "id": "UNDSec6C7uTU"
      },
      "execution_count": null,
      "outputs": []
    },
    {
      "cell_type": "markdown",
      "source": [
        "#### **crawl product**"
      ],
      "metadata": {
        "id": "FXe5Md4THMmf"
      }
    },
    {
      "cell_type": "code",
      "source": [
        "def parser_product(json):\n",
        "    d = dict()\n",
        "    d['id'] = json.get('id')\n",
        "    d['name'] = json.get('name')\n",
        "    d['price'] = json.get('price')\n",
        "    d['discount'] = json.get('discount')\n",
        "    d['rating_average'] = json.get('rating_average')\n",
        "    d['review_count'] = json.get('review_count')\n",
        "    d['highlight'] = json.get('highlight', {}).get('items')\n",
        "\n",
        "    # Lấy danh sách các hình ảnh\n",
        "    d['images'] = [img.get('base_url') for img in json.get('images', []) if isinstance(img, dict)]\n",
        "\n",
        "    d['categories'] =  json.get('categories', [])\n",
        "    d['breadcrumbs'] = (json.get('breadcrumbs'), [])\n",
        "\n",
        "\n",
        "\n",
        "    # Lấy thông tin current seller\n",
        "    if isinstance(json.get('current_seller'), dict):\n",
        "        d['current_seller'] = {\n",
        "            'id': json.get('current_seller', {}).get('id'),\n",
        "            'name': json.get('current_seller', {}).get('name')\n",
        "        }\n",
        "    else:\n",
        "        d['current_seller'] = {}\n",
        "\n",
        "    # Lấy thông tin quantity_sold\n",
        "    d['quantity_sold'] = json.get('quantity_sold', {}).get('value')\n",
        "\n",
        "    d['description'] = json.get('description')\n",
        "\n",
        "    # Lấy thông tin brand\n",
        "    if isinstance(json.get('brand'), dict):\n",
        "        d['brand'] = {\n",
        "            'id': json.get('brand', {}).get('id'),\n",
        "            'name': json.get('brand', {}).get('name')\n",
        "        }\n",
        "    else:\n",
        "        d['brand'] = {}\n",
        "      # Initialize an empty list to hold the name and value pairs\n",
        "    attributes = []\n",
        "\n",
        "    # Iterate over the specifications to extract name and value\n",
        "    for spec in json.get('specifications', []):\n",
        "        for attribute in spec.get('attributes', []):\n",
        "            attributes.append({\n",
        "                'name': attribute.get('name'),\n",
        "                'value': attribute.get('value')\n",
        "            })\n",
        "\n",
        "    # Add the extracted attributes to the dictionary\n",
        "    d['attributes'] = attributes\n",
        "    d['authors'] = json.get('authors', [])\n",
        "\n",
        "    return d"
      ],
      "metadata": {
        "id": "U7dZ6OXcHPPn"
      },
      "execution_count": null,
      "outputs": []
    },
    {
      "cell_type": "code",
      "source": [
        "#p_id = product_id.copy()\n",
        "p_id = pd.read_csv('/content/drive/MyDrive/DS_KLTN/crawl_data/book/book_id.csv')\n",
        "p_ids = p_id['id'].tolist()"
      ],
      "metadata": {
        "id": "1SCOSlSz_Zof"
      },
      "execution_count": null,
      "outputs": []
    },
    {
      "cell_type": "code",
      "source": [
        "def crawl_product(api, header, param, cookie, p_ids) -> pd.DataFrame:\n",
        "    product_list = []\n",
        "    for pid in tqdm(p_ids, total=len(p_ids)):\n",
        "        try:\n",
        "            response = requests.get(api + str(pid), headers=header, params=param, cookies=cookie)\n",
        "            response.raise_for_status()  # Raise an HTTPError for bad responses (4xx or 5xx)\n",
        "            try:\n",
        "                data = response.json()\n",
        "                product_list.append(parser_product(data))\n",
        "            except ValueError as e:  # Catches JSONDecodeError as well\n",
        "                print(f\"JSON decoding failed for product ID {pid}: {e}\")\n",
        "                # You can log the response content for debugging\n",
        "                print(f\"Response content: {response.text}\")\n",
        "        except requests.exceptions.RequestException as e:\n",
        "            print(f\"Request failed for product ID {pid}: {e}\")\n",
        "            # Optionally, you can retry the request or handle the error in other ways\n",
        "    return pd.DataFrame(product_list)"
      ],
      "metadata": {
        "id": "bjbvhMDL_l3n"
      },
      "execution_count": null,
      "outputs": []
    },
    {
      "cell_type": "code",
      "source": [
        "product_data = crawl_product(api_product, headers(header_product), params(param_product), cookies(cookie_product), p_ids)"
      ],
      "metadata": {
        "collapsed": true,
        "id": "yunQeot9_vAj"
      },
      "execution_count": null,
      "outputs": []
    },
    {
      "cell_type": "code",
      "source": [
        "product_data"
      ],
      "metadata": {
        "id": "fobwIUrvvRsg"
      },
      "execution_count": null,
      "outputs": []
    },
    {
      "cell_type": "code",
      "source": [
        "product_data.to_csv('/content/drive/MyDrive/DS_KLTN/crawl_data/book/book_data.csv', index=False, encoding='utf-8-sig')"
      ],
      "metadata": {
        "id": "CiIY5jbSLTT0"
      },
      "execution_count": null,
      "outputs": []
    },
    {
      "cell_type": "code",
      "source": [],
      "metadata": {
        "id": "vfsXGql4vgix"
      },
      "execution_count": null,
      "outputs": []
    }
  ]
}