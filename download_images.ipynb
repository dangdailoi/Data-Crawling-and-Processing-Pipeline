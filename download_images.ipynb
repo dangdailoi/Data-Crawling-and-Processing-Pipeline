{
  "nbformat": 4,
  "nbformat_minor": 0,
  "metadata": {
    "colab": {
      "private_outputs": true,
      "provenance": []
    },
    "kernelspec": {
      "name": "python3",
      "display_name": "Python 3"
    },
    "language_info": {
      "name": "python"
    }
  },
  "cells": [
    {
      "cell_type": "code",
      "execution_count": null,
      "metadata": {
        "id": "jSAOwM0RlC3C"
      },
      "outputs": [],
      "source": [
        "from google.colab import drive\n",
        "drive.mount('/content/drive')"
      ]
    },
    {
      "cell_type": "code",
      "source": [
        "path_ds = '/content/drive/MyDrive/DS_KLTN/data/'"
      ],
      "metadata": {
        "id": "7myz_9zslOQU"
      },
      "execution_count": null,
      "outputs": []
    },
    {
      "cell_type": "code",
      "source": [
        "fashion = path_ds + 'fashion.csv'"
      ],
      "metadata": {
        "id": "qxB_gqtNlxov"
      },
      "execution_count": null,
      "outputs": []
    },
    {
      "cell_type": "code",
      "source": [
        "import os\n",
        "import requests\n",
        "import pandas as pd\n",
        "from tqdm import tqdm"
      ],
      "metadata": {
        "id": "04z7SuTQSuV0"
      },
      "execution_count": null,
      "outputs": []
    },
    {
      "cell_type": "code",
      "source": [
        "df = pd.read_csv(fashion)"
      ],
      "metadata": {
        "id": "X02sEFUlSwiH"
      },
      "execution_count": null,
      "outputs": []
    },
    {
      "cell_type": "code",
      "source": [
        "def download_images(df, id_column='id', images_column='images', output_folder='/content/drive/MyDrive/DS_KLTN/data/images'):\n",
        "    if not os.path.exists(output_folder):\n",
        "        os.makedirs(output_folder)\n",
        "    filenames_list = []\n",
        "    for index, row in tqdm(df.iterrows(), total=df.shape[0]):\n",
        "        image_links = eval(row[images_column])\n",
        "        id_value = row[id_column]\n",
        "        filenames = []\n",
        "        for i, link in enumerate(image_links, start=1):\n",
        "            filename = f\"{id_value}_{i}.jpg\"\n",
        "            file_path = os.path.join(output_folder, filename)\n",
        "            try:\n",
        "                response = requests.get(link)\n",
        "                response.raise_for_status()\n",
        "                with open(file_path, 'wb') as f:\n",
        "                    f.write(response.content)\n",
        "                filenames.append(filename)\n",
        "            except requests.exceptions.RequestException as e:\n",
        "                print(f\"Failed to download {link}: {e}\")\n",
        "        filenames_list.append(filenames)\n",
        "    df['image_filenames'] = filenames_list\n",
        "    return df"
      ],
      "metadata": {
        "id": "v5BdQb6ASs7p"
      },
      "execution_count": null,
      "outputs": []
    },
    {
      "cell_type": "code",
      "source": [
        "updated_df = download_images(df, id_column='id', images_column='images', output_folder='/content/drive/MyDrive/DS_KLTN/data/images')"
      ],
      "metadata": {
        "collapsed": true,
        "id": "h_5btrzqS5Eq"
      },
      "execution_count": null,
      "outputs": []
    },
    {
      "cell_type": "code",
      "source": [
        "updated_df.to_csv('/content/drive/MyDrive/DS_KLTN/data/fashion_vector_with_filenames.csv', index=False)"
      ],
      "metadata": {
        "id": "c5KyJcatTF0a"
      },
      "execution_count": null,
      "outputs": []
    }
  ]
}